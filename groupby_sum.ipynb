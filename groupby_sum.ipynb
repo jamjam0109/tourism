{
 "cells": [
  {
   "cell_type": "code",
   "execution_count": 5,
   "metadata": {},
   "outputs": [],
   "source": [
    "import pandas as pd \n",
    "import os\n",
    "from itertools import chain\n",
    "from collections import defaultdict\n"
   ]
  },
  {
   "cell_type": "code",
   "execution_count": 6,
   "metadata": {},
   "outputs": [],
   "source": [
    "def get_site_name(file_name):\n",
    "    remove_space = file_name.replace(' ', '')\n",
    "    output = remove_space.split('.')[1].split('_')[0]\n",
    "    return output\n",
    "\n",
    "def get_file_name(file_names):\n",
    "    for file_name in file_names:\n",
    "        if '모수부족' in file_name:\n",
    "            file_names.remove(file_name)\n",
    "        elif 'topkeyword' not in file_name:\n",
    "            file_names.remove(file_name)\n",
    "                        \n",
    "    return file_names"
   ]
  },
  {
   "cell_type": "code",
   "execution_count": 18,
   "metadata": {},
   "outputs": [
    {
     "name": "stdout",
     "output_type": "stream",
     "text": [
      "01. 강릉커피거리_topkeyword - 복사본.csv\n",
      "01. 강릉커피거리_topkeyword.csv\n"
     ]
    }
   ],
   "source": [
    "'''\n",
    "path: data가 저장되어 있는 경로\n",
    "'''\n",
    "\n",
    "path = './sample'\n",
    "\n",
    "file_names = get_file_name(os.listdir(path))\n",
    "\n",
    "first_dict = dict()\n",
    "smaple_output = defaultdict(list)\n",
    "\n",
    "\n",
    "for file_name in file_names:\n",
    "\n",
    "    # 관광지명 가져오기\n",
    "    site_name = get_site_name(file_name)\n",
    "\n",
    "    # 관광지명에 괄호가 존재할 경우 괄호 앞에 부분을 관광지명으로 정의\n",
    "    if '(' in site_name:\n",
    "        site_name = site_name.split('(')[0]\n",
    "\n",
    "    if '[' in site_name:\n",
    "        site_name = site_name.split('[')[0]\n",
    "\n",
    "    if 'csv' in file_name:\n",
    "        df = pd.read_csv(f'{path}/{file_name}', encoding='cp949')\n",
    "\n",
    "    # 데이터분할 파일을 xlsx 형태\n",
    "    if 'xlsx' in file_name:\n",
    "        df = pd.read_excel(f'{path}/{file_name}', sheet_name=0, skiprows = 3)\n",
    "\n",
    "    # 연관어 가져오기 \n",
    "    keyword = df[['key', 'freq']]\n",
    "    \n",
    "    # 연관어에서 관광지 명 삭제\n",
    "    if site_name in keyword:\n",
    "        keyword.remove(site_name)\n",
    "\n",
    "    get_dict = keyword.set_index('key')['freq'].to_dict()\n",
    "    \n",
    "    for k, v in chain(first_dict.items(), get_dict.items()):\n",
    "        smaple_output[k].append(v)\n",
    "        \n",
    "    print(file_name)"
   ]
  },
  {
   "cell_type": "code",
   "execution_count": 45,
   "metadata": {},
   "outputs": [],
   "source": [
    "group_by_sum = dict()\n",
    "a = output.items()\n",
    "\n",
    "for k, v in a:\n",
    "    group_by_sum[k] = sum(v)"
   ]
  },
  {
   "cell_type": "code",
   "execution_count": 49,
   "metadata": {},
   "outputs": [],
   "source": [
    "df_output = pd.DataFrame.from_dict(group_by_sum, orient='index')\n",
    "rename_df_output = df_output.rename(columns={0: \"freq\"})"
   ]
  },
  {
   "cell_type": "code",
   "execution_count": 81,
   "metadata": {},
   "outputs": [
    {
     "data": {
      "text/html": [
       "<div>\n",
       "<style scoped>\n",
       "    .dataframe tbody tr th:only-of-type {\n",
       "        vertical-align: middle;\n",
       "    }\n",
       "\n",
       "    .dataframe tbody tr th {\n",
       "        vertical-align: top;\n",
       "    }\n",
       "\n",
       "    .dataframe thead th {\n",
       "        text-align: right;\n",
       "    }\n",
       "</style>\n",
       "<table border=\"1\" class=\"dataframe\">\n",
       "  <thead>\n",
       "    <tr style=\"text-align: right;\">\n",
       "      <th></th>\n",
       "      <th>freq</th>\n",
       "    </tr>\n",
       "  </thead>\n",
       "  <tbody>\n",
       "    <tr>\n",
       "      <th>ON</th>\n",
       "      <td>1373611</td>\n",
       "    </tr>\n",
       "    <tr>\n",
       "      <th>RE</th>\n",
       "      <td>791705</td>\n",
       "    </tr>\n",
       "    <tr>\n",
       "      <th>TWEET</th>\n",
       "      <td>764559</td>\n",
       "    </tr>\n",
       "    <tr>\n",
       "      <th>CO</th>\n",
       "      <td>493558</td>\n",
       "    </tr>\n",
       "    <tr>\n",
       "      <th>홍대</th>\n",
       "      <td>487864</td>\n",
       "    </tr>\n",
       "    <tr>\n",
       "      <th>서울</th>\n",
       "      <td>441252</td>\n",
       "    </tr>\n",
       "    <tr>\n",
       "      <th>에버랜드</th>\n",
       "      <td>384035</td>\n",
       "    </tr>\n",
       "    <tr>\n",
       "      <th>000원</th>\n",
       "      <td>245115</td>\n",
       "    </tr>\n",
       "    <tr>\n",
       "      <th>맛집</th>\n",
       "      <td>242996</td>\n",
       "    </tr>\n",
       "    <tr>\n",
       "      <th>동대문</th>\n",
       "      <td>241219</td>\n",
       "    </tr>\n",
       "  </tbody>\n",
       "</table>\n",
       "</div>"
      ],
      "text/plain": [
       "          freq\n",
       "ON     1373611\n",
       "RE      791705\n",
       "TWEET   764559\n",
       "CO      493558\n",
       "홍대      487864\n",
       "서울      441252\n",
       "에버랜드    384035\n",
       "000원    245115\n",
       "맛집      242996\n",
       "동대문     241219"
      ]
     },
     "execution_count": 81,
     "metadata": {},
     "output_type": "execute_result"
    }
   ],
   "source": [
    "a = rename_df_output.sort_values(by='freq', axis=0, ascending=False)\n",
    "a.head(10)"
   ]
  },
  {
   "cell_type": "code",
   "execution_count": 83,
   "metadata": {},
   "outputs": [
    {
     "ename": "TypeError",
     "evalue": "'tuple' object is not callable",
     "output_type": "error",
     "traceback": [
      "\u001b[1;31m---------------------------------------------------------------------------\u001b[0m",
      "\u001b[1;31mTypeError\u001b[0m                                 Traceback (most recent call last)",
      "\u001b[1;32m<ipython-input-83-d642932f9d02>\u001b[0m in \u001b[0;36m<module>\u001b[1;34m\u001b[0m\n\u001b[1;32m----> 1\u001b[1;33m \u001b[0ma\u001b[0m\u001b[1;33m[\u001b[0m\u001b[1;34m'per'\u001b[0m\u001b[1;33m]\u001b[0m \u001b[1;33m=\u001b[0m \u001b[0ma\u001b[0m\u001b[1;33m[\u001b[0m\u001b[1;34m'freq'\u001b[0m\u001b[1;33m]\u001b[0m \u001b[1;33m/\u001b[0m \u001b[0ma\u001b[0m\u001b[1;33m.\u001b[0m\u001b[0mshape\u001b[0m\u001b[1;33m(\u001b[0m\u001b[1;36m0\u001b[0m\u001b[1;33m)\u001b[0m\u001b[1;33m\u001b[0m\u001b[1;33m\u001b[0m\u001b[0m\n\u001b[0m",
      "\u001b[1;31mTypeError\u001b[0m: 'tuple' object is not callable"
     ]
    }
   ],
   "source": [
    "a['per'] = a['freq'] / a.shape(0)"
   ]
  },
  {
   "cell_type": "code",
   "execution_count": 61,
   "metadata": {},
   "outputs": [
    {
     "data": {
      "text/plain": [
       "(990937, 1)"
      ]
     },
     "execution_count": 61,
     "metadata": {},
     "output_type": "execute_result"
    }
   ],
   "source": [
    "# 4건 이상\n",
    "b = rename_df_output.query('freq > 3')\n",
    "b.shape"
   ]
  },
  {
   "cell_type": "code",
   "execution_count": 63,
   "metadata": {},
   "outputs": [],
   "source": [
    "b.sort_values('freq', axis=0, ascending=False).to_csv('dfklsdklf.csv', encoding='utf-8-sig')"
   ]
  },
  {
   "cell_type": "code",
   "execution_count": 77,
   "metadata": {},
   "outputs": [],
   "source": [
    "s = a['freq'] / a.shape[0]"
   ]
  },
  {
   "cell_type": "code",
   "execution_count": null,
   "metadata": {},
   "outputs": [],
   "source": []
  }
 ],
 "metadata": {
  "kernelspec": {
   "display_name": "Python 3",
   "language": "python",
   "name": "python3"
  },
  "language_info": {
   "codemirror_mode": {
    "name": "ipython",
    "version": 3
   },
   "file_extension": ".py",
   "mimetype": "text/x-python",
   "name": "python",
   "nbconvert_exporter": "python",
   "pygments_lexer": "ipython3",
   "version": "3.6.7"
  }
 },
 "nbformat": 4,
 "nbformat_minor": 4
}
