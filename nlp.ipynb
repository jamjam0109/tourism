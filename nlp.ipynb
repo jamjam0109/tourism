{
 "cells": [
  {
   "cell_type": "code",
   "execution_count": 5,
   "metadata": {},
   "outputs": [],
   "source": [
    "import pickle\n",
    "from konlpy.tag import Hannanum \n",
    "from datetime import datetime"
   ]
  },
  {
   "cell_type": "code",
   "execution_count": 6,
   "metadata": {},
   "outputs": [],
   "source": [
    "\n",
    "\n",
    "def save_pickle(data, save_name):\n",
    "    with open(f'./{save_name}.pkl', 'wb') as f:\n",
    "        pickle.dump(data, f, pickle.HIGHEST_PROTOCOL)\n",
    "        \n",
    "def load_pickle(path):\n",
    "    with open(f'{path}', 'rb') as f:\n",
    "        output= pickle.load(f)\n",
    "    return output"
   ]
  },
  {
   "cell_type": "code",
   "execution_count": 7,
   "metadata": {},
   "outputs": [],
   "source": [
    "df = load_pickle('./group_by_keyword.pkl')"
   ]
  },
  {
   "cell_type": "code",
   "execution_count": 11,
   "metadata": {},
   "outputs": [
    {
     "name": "stdout",
     "output_type": "stream",
     "text": [
      "2020-06-17 18:07:38.410583\n",
      "500000\n",
      "2020-06-17 18:11:07.540694\n",
      "1000000\n",
      "2020-06-17 18:14:55.623652\n",
      "1500000\n",
      "2020-06-17 18:19:17.439235\n",
      "2000000\n",
      "2020-06-17 18:23:22.298972\n",
      "18 21751\n",
      "36 2904\n",
      "75 2256\n",
      "2010 492\n",
      "45 659\n",
      "True 436\n",
      "112 583\n",
      "2500000\n",
      "2020-06-17 18:28:21.080359\n",
      "3000000\n",
      "2020-06-17 18:33:21.912978\n",
      "1999-04-01 00:00:00 13\n",
      "3500000\n",
      "2020-06-17 18:38:32.023843\n",
      "4000000\n",
      "2020-06-17 18:42:54.467340\n",
      "4500000\n",
      "2020-06-17 18:50:08.793238\n",
      "5000000\n",
      "2020-06-17 19:01:59.995506\n",
      "5500000\n",
      "2020-06-17 19:13:30.856679\n"
     ]
    },
    {
     "ename": "TypeError",
     "evalue": "load_pickle() takes 1 positional argument but 2 were given",
     "output_type": "error",
     "traceback": [
      "\u001b[1;31m---------------------------------------------------------------------------\u001b[0m",
      "\u001b[1;31mTypeError\u001b[0m                                 Traceback (most recent call last)",
      "\u001b[1;32m<ipython-input-11-343ae0caf750>\u001b[0m in \u001b[0;36m<module>\u001b[1;34m\u001b[0m\n\u001b[0;32m     24\u001b[0m         \u001b[0mprint\u001b[0m\u001b[1;33m(\u001b[0m\u001b[0mstr\u001b[0m\u001b[1;33m(\u001b[0m\u001b[0mdatetime\u001b[0m\u001b[1;33m.\u001b[0m\u001b[0mnow\u001b[0m\u001b[1;33m(\u001b[0m\u001b[1;33m)\u001b[0m\u001b[1;33m)\u001b[0m\u001b[1;33m)\u001b[0m\u001b[1;33m\u001b[0m\u001b[1;33m\u001b[0m\u001b[0m\n\u001b[0;32m     25\u001b[0m \u001b[1;33m\u001b[0m\u001b[0m\n\u001b[1;32m---> 26\u001b[1;33m \u001b[0mload_pickle\u001b[0m\u001b[1;33m(\u001b[0m\u001b[0mnlp_output\u001b[0m\u001b[1;33m,\u001b[0m \u001b[1;34m'nlp_output'\u001b[0m\u001b[1;33m)\u001b[0m\u001b[1;33m\u001b[0m\u001b[1;33m\u001b[0m\u001b[0m\n\u001b[0m",
      "\u001b[1;31mTypeError\u001b[0m: load_pickle() takes 1 positional argument but 2 were given"
     ]
    }
   ],
   "source": [
    "han = Hannanum() \n",
    "\n",
    "print(str(datetime.now()))\n",
    "\n",
    "nlp_output = dict()\n",
    "\n",
    "bre = 0\n",
    "\n",
    "for k, v in df.items():\n",
    "    try:\n",
    "        nouns = han.nouns(k)\n",
    "        if len(nouns) == 0:\n",
    "            noun = k \n",
    "        else: \n",
    "            noun = nouns[0]\n",
    "\n",
    "        nlp_output[k] = {'noun': noun, 'freq': v}\n",
    "    except:\n",
    "        print(k, v)\n",
    "\n",
    "    bre += 1\n",
    "    if bre % 500000 == 0:\n",
    "        print(bre)\n",
    "        print(str(datetime.now()))\n",
    "        \n",
    "load_pickle(nlp_output, 'nlp_output')"
   ]
  },
  {
   "cell_type": "code",
   "execution_count": null,
   "metadata": {},
   "outputs": [],
   "source": [
    "save_pickle(nlp_output, 'nlp_output')"
   ]
  },
  {
   "cell_type": "code",
   "execution_count": null,
   "metadata": {},
   "outputs": [],
   "source": []
  }
 ],
 "metadata": {
  "kernelspec": {
   "display_name": "Python 3",
   "language": "python",
   "name": "python3"
  },
  "language_info": {
   "codemirror_mode": {
    "name": "ipython",
    "version": 3
   },
   "file_extension": ".py",
   "mimetype": "text/x-python",
   "name": "python",
   "nbconvert_exporter": "python",
   "pygments_lexer": "ipython3",
   "version": "3.6.7"
  }
 },
 "nbformat": 4,
 "nbformat_minor": 4
}
